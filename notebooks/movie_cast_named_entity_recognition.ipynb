{
 "cells": [
  {
   "cell_type": "markdown",
   "metadata": {},
   "source": [
    "# Movie Cast Named Entity Recognition Using ChatGPT\n",
    "\n",
    "The movie dataset, found on [kaggle.com](https://www.kaggle.com/datasets/utkarshx27/movies-dataset), contains a `cast` column that displays a string of all cast members of the movie.\n",
    "\n",
    "An example `cast` entry is:\n",
    "```\n",
    "Robert Downey Jr. Chris Hemsworth Mark Ruffalo Chris Evans Scarlett Johansson\n",
    "```\n",
    "\n",
    "Other than this cast representing a Marvel movie, one obvious characteristic is that the space-separated name segments are without an indicator showing where a name starts and ends. As a result, a \"simple\" program that aims to parse the cast to analyze relationships between a cast member and other movie data would be challenging. The edge cases needed would be enormous resulting in the [If Statement Code Smell](https://blog.jetbrains.com/idea/2017/09/code-smells-if-statements/).\n",
    "\n",
    "This is a great opportunity for Natural Language Processing (NLP) via OpenAI's ChatGPT to identify complete names in a `cast` string. The names should be comma-separated with a comma representing the end of one name and the beginning of another. An example use case of this format includes generating a dictionary of unique cast members."
   ]
  },
  {
   "cell_type": "markdown",
   "metadata": {},
   "source": [
    "## Prerequisites\n",
    "\n",
    "1. Run `pip install -r requirements.txt`\n",
    "2. Create a `.env` file in the root directory storing your `OPENAI_API_KEY`"
   ]
  },
  {
   "cell_type": "code",
   "execution_count": 25,
   "metadata": {},
   "outputs": [],
   "source": [
    "import os\n",
    "\n",
    "from dotenv import load_dotenv\n",
    "import openai\n",
    "import pandas as pd\n",
    "\n",
    "load_dotenv()\n",
    "\n",
    "openai.api_key = os.getenv(\"OPENAI_API_KEY\")"
   ]
  },
  {
   "cell_type": "markdown",
   "metadata": {},
   "source": [
    "## Processing a Single String\n",
    "\n",
    "Continuing the intro's example, let's use an `openai` completion to find the names.\n",
    "\n",
    "The target output is a comma-separated string of names that should look like this:\n",
    "```\n",
    "Robert Downey Jr.,Chris Hemsworth,Mark Ruffalo,Chris Evans,Scarlett Johansson\n",
    "```"
   ]
  },
  {
   "cell_type": "code",
   "execution_count": 26,
   "metadata": {},
   "outputs": [
    {
     "name": "stdout",
     "output_type": "stream",
     "text": [
      "Robert Downey Jr.,Chris Hemsworth,Mark Ruffalo,Chris Evans,Scarlett Johansson\n"
     ]
    }
   ],
   "source": [
    "def extract_names(text):\n",
    "    \"\"\"Converts a space-separated string of names into a comma-separated string of names.\n",
    "\n",
    "    The method uses openai's completion API to parse the cast text and identify the complete\n",
    "      names.\n",
    "\n",
    "    Returns:\n",
    "      A comma-separated string of names.\n",
    "    \"\"\"\n",
    "    response = openai.Completion.create(\n",
    "      engine=\"text-davinci-003\",\n",
    "      prompt=f'Detect the names in the string below, and return the complete names separated by commas:\\n\\n\"{text}\"',\n",
    "      max_tokens=1000\n",
    "    )\n",
    "\n",
    "    # Store the output as a list of complete names.\n",
    "    names = response.choices[0].text.strip().split(\", \")\n",
    "\n",
    "    # Join the complete names into a single string separated by commas.\n",
    "    return \",\".join(names)\n",
    "\n",
    "cast_csv = extract_names(\"Robert Downey Jr. Chris Hemsworth Mark Ruffalo Chris Evans Scarlett Johansson\")\n",
    "print(cast_csv)"
   ]
  },
  {
   "cell_type": "markdown",
   "metadata": {},
   "source": [
    "## Update the Dataset's `cast` Value\n",
    "\n",
    "Now that the problem with the current `cast` representation has been identified and a solution has been created, create a new column titled `cast_csv` that will contain the updated representation. "
   ]
  },
  {
   "cell_type": "code",
   "execution_count": 28,
   "metadata": {},
   "outputs": [],
   "source": [
    "df = pd.read_csv('./data/movie_dataset.csv')\n",
    "\n",
    "# Limit the dataframe to the first 25 rows for example purposes.\n",
    "df = df.head(25)\n",
    "\n",
    "df['cast_csv'] = df['cast'].apply(extract_names)\n",
    "df.to_csv('./data/movie_dataset_with_cast_csv_top_25.csv', index=False)"
   ]
  },
  {
   "cell_type": "markdown",
   "metadata": {},
   "source": [
    "## Conclusion\n",
    "\n",
    "The cast member complete names can now be found by splitting commas on the `cast_csv` column. This removes the guesswork of trying to determine a complete name using the space-separated `cast` column.\n",
    "\n",
    "Example entries:\n",
    "<br>\n",
    "| cast | cast_csv |\n",
    "| --- | --- |\n",
    "| Robert Downey Jr. Chris Hemsworth Mark Ruffalo Chris Evans Scarlett Johansson  | Robert Downey Jr.,Chris Hemsworth,Mark Ruffalo,Chris Evans,Scarlett Johansson |\n",
    "| Russell Crowe Cate Blanchett Max von Sydow William Hurt Mark Strong  | Russell Crowe,Cate Blanchett,Max von Sydow,William Hurt,Mark Strong |"
   ]
  },
  {
   "cell_type": "markdown",
   "metadata": {},
   "source": [
    "## "
   ]
  },
  {
   "cell_type": "markdown",
   "metadata": {},
   "source": [
    "## "
   ]
  }
 ],
 "metadata": {
  "interpreter": {
   "hash": "b0fa6594d8f4cbf19f97940f81e996739fb7646882a419484c72d19e05852a7e"
  },
  "kernelspec": {
   "display_name": "Python 3.11.4 64-bit",
   "language": "python",
   "name": "python3"
  },
  "language_info": {
   "codemirror_mode": {
    "name": "ipython",
    "version": 3
   },
   "file_extension": ".py",
   "mimetype": "text/x-python",
   "name": "python",
   "nbconvert_exporter": "python",
   "pygments_lexer": "ipython3",
   "version": "3.11.4"
  },
  "orig_nbformat": 4
 },
 "nbformat": 4,
 "nbformat_minor": 2
}
